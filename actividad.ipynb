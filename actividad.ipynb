{
 "cells": [
  {
   "cell_type": "code",
   "execution_count": null,
   "metadata": {},
   "outputs": [],
   "source": [
    "pendientes = [\n",
    "]\n",
    "\n",
    "pendientes.insert(0,{'nombre': 'completar mochila',\n",
    "              'descripcion': 'Terminar de coser la cara delantera',\n",
    "              'estado':'incompleto'})\n",
    "pendientes.insert(1,{'nombre': 'Terminar el cuadro de Luna',\n",
    "              'descripcion': 'Pintar los ultimos detalles de los ojos del cuadro con acrilico blanco para los brillos',\n",
    "              'estado':'incompleto'})\n",
    "pendientes.insert(2,{'nombre': 'completar bolso',\n",
    "              'descripcion': 'Presentar el bolso de jeans a la profesora del taller para su aprobacion',\n",
    "              'estado':'completo'})\n",
    "print(pendientes)\n",
    "\n",
    "pendientes.pop(2)\n",
    "print(pendientes[0].values())\n",
    "print(pendientes[1].values())\n"
   ]
  }
 ],
 "metadata": {
  "kernelspec": {
   "display_name": "Python 3",
   "language": "python",
   "name": "python3"
  },
  "language_info": {
   "codemirror_mode": {
    "name": "ipython",
    "version": 3
   },
   "file_extension": ".py",
   "mimetype": "text/x-python",
   "name": "python",
   "nbconvert_exporter": "python",
   "pygments_lexer": "ipython3",
   "version": "3.12.0"
  }
 },
 "nbformat": 4,
 "nbformat_minor": 2
}
